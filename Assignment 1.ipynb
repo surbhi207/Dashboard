{
 "cells": [
  {
   "cell_type": "raw",
   "id": "8127cad2",
   "metadata": {},
   "source": [
    "1. Value = 'hello', 6, -87.8\n",
    "  Expression = *,-,+,/"
   ]
  },
  {
   "cell_type": "raw",
   "id": "454fd3f3",
   "metadata": {},
   "source": [
    "2.String :string is a data type which represent the textual data. it  consist a sequence of data enclosed between single or double quote.\n",
    "\n",
    " Varible: It is symbolic name or identifier used to store and reference different data type."
   ]
  },
  {
   "cell_type": "raw",
   "id": "6194798f",
   "metadata": {},
   "source": [
    "3. Three different data types are:\n",
    "Integer : it represent whole number without any descimal point , it can be both positive and negative\n",
    "\n",
    "Boolean: it represent the binary value like TRUE and FALSE.\n",
    "\n",
    "float: it is used to represent real number , it can be both +ve or _ve"
   ]
  },
  {
   "cell_type": "raw",
   "id": "f45c49a8",
   "metadata": {},
   "source": [
    "4. Expression is used to perform calculation.Expression is a combination of values, variables, operators, and function calls that can be evaluated to produce a result"
   ]
  },
  {
   "cell_type": "code",
   "execution_count": 9,
   "id": "b38626de",
   "metadata": {},
   "outputs": [
    {
     "data": {
      "text/plain": [
       "23"
      ]
     },
     "execution_count": 9,
     "metadata": {},
     "output_type": "execute_result"
    }
   ],
   "source": [
    "bacon = 22\n",
    "bacon+1"
   ]
  },
  {
   "cell_type": "raw",
   "id": "ad7a3c62",
   "metadata": {},
   "source": [
    "6. expression produce value when it is evaluated. in example SPAM= 10 ,it is statement where 10 is assigned to variable SPAM, but it doed not produce value itself"
   ]
  },
  {
   "cell_type": "raw",
   "id": "ff1e4ee2",
   "metadata": {},
   "source": [
    "7. Answer of both expression will be 'spamspamspam'"
   ]
  },
  {
   "cell_type": "raw",
   "id": "bd4e522c",
   "metadata": {},
   "source": [
    "8. Variale must start from letter or underscore. egg is valid variable because it start from letter while 100 is number"
   ]
  },
  {
   "cell_type": "raw",
   "id": "4d8b951f",
   "metadata": {},
   "source": [
    "9. int() ,float() , str()"
   ]
  },
  {
   "cell_type": "code",
   "execution_count": 11,
   "id": "d7f0d6be",
   "metadata": {},
   "outputs": [],
   "source": [
    "# 10.  It cause error because we are adding sring with int , we typecast and convert int in to string.\n",
    "a= 'i have eaten'+'99'+'burritos'\n"
   ]
  },
  {
   "cell_type": "code",
   "execution_count": null,
   "id": "f601a941",
   "metadata": {},
   "outputs": [],
   "source": []
  }
 ],
 "metadata": {
  "kernelspec": {
   "display_name": "Python 3 (ipykernel)",
   "language": "python",
   "name": "python3"
  },
  "language_info": {
   "codemirror_mode": {
    "name": "ipython",
    "version": 3
   },
   "file_extension": ".py",
   "mimetype": "text/x-python",
   "name": "python",
   "nbconvert_exporter": "python",
   "pygments_lexer": "ipython3",
   "version": "3.9.13"
  }
 },
 "nbformat": 4,
 "nbformat_minor": 5
}
